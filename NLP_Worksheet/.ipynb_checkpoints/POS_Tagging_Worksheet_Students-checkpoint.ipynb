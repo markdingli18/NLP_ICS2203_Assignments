{
 "cells": [
  {
   "cell_type": "markdown",
   "metadata": {
    "id": "0iOVq39_wtdy"
   },
   "source": [
    "# Part-of-Speech Tagging Worksheet\n",
    "\n",
    "**Objective**: This worksheet aims to help you understand and implement part-of-speech (POS) tagging using Python. You will explore different POS tagging techniques and libraries to get hands-on experience with this important natural language processing task.\n",
    "\n",
    "Duration: 1 hour\n"
   ]
  },
  {
   "cell_type": "markdown",
   "metadata": {
    "id": "zYNPa6Dvw8w-"
   },
   "source": [
    "## Part 1 POS Tagging with NLTK\n",
    "\n",
    "The Natural Language Toolkit (NLTK) is a popular library for NLP tasks in Python. In this part, you will use the NLTK library to perform POS tagging.\n",
    "\n",
    "### Task 1: Setup and explore NLTK\n",
    "1. Install the NLTK library if you haven't already:\n",
    "\n",
    "\n",
    "\n",
    "```\n",
    "pip install nltk\n",
    "```\n",
    "\n"
   ]
  },
  {
   "cell_type": "code",
   "execution_count": 1,
   "metadata": {
    "colab": {
     "base_uri": "https://localhost:8080/"
    },
    "id": "mK0hfCxVxdMK",
    "outputId": "bef0bb4a-236f-4c1e-d299-7b280e994e18"
   },
   "outputs": [
    {
     "name": "stdout",
     "output_type": "stream",
     "text": [
      "Requirement already satisfied: nltk in c:\\users\\markd\\anaconda3\\lib\\site-packages (3.7)\n",
      "Requirement already satisfied: click in c:\\users\\markd\\anaconda3\\lib\\site-packages (from nltk) (8.0.4)\n",
      "Requirement already satisfied: joblib in c:\\users\\markd\\anaconda3\\lib\\site-packages (from nltk) (1.1.0)\n",
      "Requirement already satisfied: tqdm in c:\\users\\markd\\anaconda3\\lib\\site-packages (from nltk) (4.65.0)\n",
      "Requirement already satisfied: regex>=2021.8.3 in c:\\users\\markd\\anaconda3\\lib\\site-packages (from nltk) (2022.7.9)\n",
      "Requirement already satisfied: colorama in c:\\users\\markd\\anaconda3\\lib\\site-packages (from click->nltk) (0.4.6)\n",
      "Note: you may need to restart the kernel to use updated packages.\n"
     ]
    }
   ],
   "source": [
    "pip install nltk"
   ]
  },
  {
   "cell_type": "markdown",
   "metadata": {
    "id": "1WauU2ezxgOU"
   },
   "source": [
    "2. Import the necessary modules and download the required datasets:\n",
    "\n",
    "\n",
    "\n",
    "```\n",
    "import nltk\n",
    "nltk.download('punkt')\n",
    "nltk.download('averaged_perceptron_tagger')\n",
    "```\n"
   ]
  },
  {
   "cell_type": "code",
   "execution_count": 2,
   "metadata": {
    "colab": {
     "base_uri": "https://localhost:8080/"
    },
    "id": "sscZlh-Cx7yA",
    "outputId": "30932f41-290d-4fff-e8e9-fcf347668e9f"
   },
   "outputs": [
    {
     "name": "stderr",
     "output_type": "stream",
     "text": [
      "[nltk_data] Downloading package punkt to\n",
      "[nltk_data]     C:\\Users\\markd\\AppData\\Roaming\\nltk_data...\n",
      "[nltk_data]   Package punkt is already up-to-date!\n",
      "[nltk_data] Downloading package averaged_perceptron_tagger to\n",
      "[nltk_data]     C:\\Users\\markd\\AppData\\Roaming\\nltk_data...\n",
      "[nltk_data]   Package averaged_perceptron_tagger is already up-to-\n",
      "[nltk_data]       date!\n"
     ]
    },
    {
     "data": {
      "text/plain": [
       "True"
      ]
     },
     "execution_count": 2,
     "metadata": {},
     "output_type": "execute_result"
    }
   ],
   "source": [
    "import nltk\n",
    "nltk.download('punkt')\n",
    "nltk.download('averaged_perceptron_tagger')"
   ]
  },
  {
   "cell_type": "markdown",
   "metadata": {
    "id": "zg-7P0tixymM"
   },
   "source": [
    "### Task 2: Tokenize and tag a sentence\n",
    "1. Write a function `tokenize_sentence(sentence)` that takes a sentence as input and returns a list of tokens. Use the `nltk.word_tokenize()` function to tokenize the sentence.\n",
    "\n",
    "2. Write a function `tag_sentence(tokens)` that takes a list of tokens as input and returns a list of tuples containing the token and its corresponding POS tag. Use the `nltk.pos_tag()` function to tag the tokens.\n",
    "\n",
    "3. Test your functions with the following sentence: \"The quick brown fox jumps over the lazy dog.\""
   ]
  },
  {
   "cell_type": "code",
   "execution_count": 3,
   "metadata": {
    "id": "53Ju162JyU9S"
   },
   "outputs": [
    {
     "name": "stdout",
     "output_type": "stream",
     "text": [
      "\n",
      "Tokens: ['The', 'quick', 'brown', 'fox', 'jumps', 'over', 'the', 'lazy', 'dog', '.']\n",
      "\n",
      "Tagged Tokens: [('The', 'DT'), ('quick', 'JJ'), ('brown', 'NN'), ('fox', 'NN'), ('jumps', 'VBZ'), ('over', 'IN'), ('the', 'DT'), ('lazy', 'JJ'), ('dog', 'NN'), ('.', '.')]\n",
      "\n",
      "\n",
      "-----------------------------------------------------------------------------------------------------------------------------\n"
     ]
    }
   ],
   "source": [
    "# Task 2: Tokenize and tag a sentence\n",
    "\n",
    "def tokenize_sentence(sentence):\n",
    "    return nltk.word_tokenize(sentence)\n",
    "\n",
    "def tag_sentence(tokens):\n",
    "    return nltk.pos_tag(tokens)\n",
    "\n",
    "test_sentence = \"The quick brown fox jumps over the lazy dog.\"\n",
    "tokens = tokenize_sentence(test_sentence)\n",
    "nltk_tags = tag_sentence(tokens)\n",
    "\n",
    "# Print the tokens and tagged tokens\n",
    "print(\"\\nTokens:\", tokens)\n",
    "print(\"\\nTagged Tokens:\", nltk_tags)\n",
    "print(\"\\n\")\n",
    "print(\"-\"*125)"
   ]
  },
  {
   "cell_type": "markdown",
   "metadata": {
    "id": "ui0eoXPLyWjq"
   },
   "source": [
    "### Task 3: Analyze POS tags\n",
    "1. Write a function `tag_frequencies(tagged_tokens)` that takes a list of tagged tokens and returns a dictionary containing the frequency of each POS tag.\n",
    "\n",
    "2. Test your function with the tagged tokens from Task 2."
   ]
  },
  {
   "cell_type": "code",
   "execution_count": 4,
   "metadata": {
    "id": "25RQttyBy0Ia"
   },
   "outputs": [
    {
     "name": "stdout",
     "output_type": "stream",
     "text": [
      "\n",
      "\n",
      "{'DT': 2, 'JJ': 2, 'NN': 3, 'VBZ': 1, 'IN': 1, '.': 1}\n",
      "\n",
      "\n",
      "-----------------------------------------------------------------------------------------------------------------------------\n"
     ]
    }
   ],
   "source": [
    "def tag_frequencies(tagged_tokens):\n",
    "    freqs = {}\n",
    "    for token in tagged_tokens:\n",
    "        tag = token[1]\n",
    "        if tag in freqs:\n",
    "            freqs[tag] += 1\n",
    "        else:\n",
    "            freqs[tag] = 1\n",
    "    return freqs\n",
    "\n",
    "nltk_tag_freqs = tag_frequencies(nltk_tags)\n",
    "print(\"\\n\")\n",
    "print(nltk_tag_freqs)\n",
    "print(\"\\n\")\n",
    "print(\"-\"*125)"
   ]
  },
  {
   "cell_type": "markdown",
   "metadata": {
    "id": "1HSWV0G6y0qQ"
   },
   "source": [
    "## Part 2: POS Tagging with spaCy\n",
    "spaCy is another popular library for NLP tasks in Python. In this part, you will use the spaCy library to perform POS tagging.\n",
    "\n",
    "### Task 4: Setup and explore spaCy\n",
    "1. Install the spaCy library and the English language model if you haven't already:\n",
    "\n",
    "```\n",
    "pip install spacy\n",
    "python -m spacy download en_core_web_sm\n",
    "```"
   ]
  },
  {
   "cell_type": "code",
   "execution_count": 5,
   "metadata": {
    "id": "xOt2KlKI2cHx"
   },
   "outputs": [
    {
     "name": "stdout",
     "output_type": "stream",
     "text": [
      "\n",
      "\n",
      "The det fox\n",
      "quick amod fox\n",
      "brown amod fox\n",
      "fox nsubj jumps\n",
      "jumps ROOT jumps\n",
      "over prep jumps\n",
      "the det dog\n",
      "lazy amod dog\n",
      "dog pobj over\n",
      ". punct jumps\n",
      "\n",
      "\n",
      "-----------------------------------------------------------------------------------------------------------------------------\n"
     ]
    }
   ],
   "source": [
    "# Part 2: POS Tagging with spaCy\n",
    "\n",
    "# Task 4: Setup and explore spaCy\n",
    "\n",
    "import spacy\n",
    "nlp = spacy.load('en_core_web_sm')\n",
    "#to do - explore nlp() with a test sentence\n",
    "\n",
    "# Define a test sentence\n",
    "test_sentence = \"The quick brown fox jumps over the lazy dog.\"\n",
    "doc = nlp(test_sentence)\n",
    "\n",
    "print(\"\\n\")\n",
    "# Iterate over the tokens in the Doc object\n",
    "for token in doc:\n",
    "    # Print the token text, its dependency relation and the head token text\n",
    "    print(token.text, token.dep_, token.head.text)\n",
    "    \n",
    "print(\"\\n\")\n",
    "print(\"-\"*125)"
   ]
  },
  {
   "cell_type": "markdown",
   "metadata": {
    "id": "YNS0wihh2cn0"
   },
   "source": [
    "## Task 5: Tokenize and tag a sentence with spaCy\n",
    "1. Write a function `tag_sentence_spacy(sentence)` that takes a sentence as input and returns a list of tuples containing the token and its corresponding POS tag. Use the `nlp()` function from spaCy to tokenize and tag the sentence.\n",
    "\n",
    "2. Test your function with the following sentence: \"The quick brown fox jumps over the lazy dog.\""
   ]
  },
  {
   "cell_type": "code",
   "execution_count": 6,
   "metadata": {
    "id": "H8qMCkdW2qYj"
   },
   "outputs": [
    {
     "name": "stdout",
     "output_type": "stream",
     "text": [
      "\n",
      "\n",
      "[('The', 'DET'), ('quick', 'ADJ'), ('brown', 'ADJ'), ('fox', 'NOUN'), ('jumps', 'VERB'), ('over', 'ADP'), ('the', 'DET'), ('lazy', 'ADJ'), ('dog', 'NOUN'), ('.', 'PUNCT')]\n",
      "\n",
      "\n",
      "-----------------------------------------------------------------------------------------------------------------------------\n"
     ]
    }
   ],
   "source": [
    "# Task 5: Tokenize and tag a sentence with spaCy\n",
    "\n",
    "def tag_sentence_spacy(sentence):\n",
    "    doc = nlp(sentence)\n",
    "    return [(token.text, token.pos_) for token in doc]\n",
    "\n",
    "#to do - test the function and check the output that you get\n",
    "spacy_tags = tag_sentence_spacy(test_sentence)\n",
    "\n",
    "print(\"\\n\")\n",
    "print(spacy_tags)\n",
    "print(\"\\n\")\n",
    "print(\"-\"*125)"
   ]
  },
  {
   "cell_type": "markdown",
   "metadata": {
    "id": "Ah4C2-Gz2rcR"
   },
   "source": [
    "### Task 6: Compare NLTK and spaCy\n",
    "1. Write a function `compare_taggers(nltk_tags, spacy_tags)` that takes two lists of tagged tokens (one from NLTK and one from spaCy) and returns the number of differences between the two sets of tags.\n",
    "\n",
    "2. Test your function with the tagged tokens from Tasks 2 and 5."
   ]
  },
  {
   "cell_type": "code",
   "execution_count": 7,
   "metadata": {
    "id": "AeLaSUD522Ru"
   },
   "outputs": [
    {
     "name": "stdout",
     "output_type": "stream",
     "text": [
      "\n",
      "Number of tag differences: 10\n",
      "\n",
      "\n",
      "-----------------------------------------------------------------------------------------------------------------------------\n"
     ]
    }
   ],
   "source": [
    "# Task 6: Compare NLTK and spaCy\n",
    "\n",
    "def compare_taggers(nltk_tags, spacy_tags):\n",
    "    differences = 0\n",
    "    for (nltk_token, nltk_tag), (spacy_token, spacy_tag) in zip(nltk_tags, spacy_tags):\n",
    "        if nltk_token == spacy_token and nltk_tag != spacy_tag:\n",
    "            differences += 1\n",
    "    return differences\n",
    "\n",
    "# Define a test sentence\n",
    "test_sentence = \"The quick brown fox jumps over the lazy dog.\"\n",
    "\n",
    "# Tokenize and tag the sentence using NLTK\n",
    "nltk_tokens = tokenize_sentence(test_sentence)\n",
    "nltk_tags = tag_sentence(nltk_tokens)\n",
    "\n",
    "# Tokenize and tag the sentence using spaCy\n",
    "spacy_tags = tag_sentence_spacy(test_sentence)\n",
    "\n",
    "# Compare the tags\n",
    "differences = compare_taggers(nltk_tags, spacy_tags)\n",
    "\n",
    "# Print the number of differences\n",
    "print(\"\\nNumber of tag differences:\", differences)\n",
    "print(\"\\n\")\n",
    "print(\"-\"*125)"
   ]
  },
  {
   "cell_type": "markdown",
   "metadata": {
    "id": "Mr2ZXHyO228t"
   },
   "source": [
    "## Part 3: Hands-on exercise\n",
    "1. Find a news article or a paragraph from a news website and copy the text into a string variable.\n",
    "\n",
    "2. Use both NLTK and spaCy to tokenize and tag the text. Compare the results and note any differences in the POS tags assigned by the two libraries.\n",
    "\n",
    "3. Create a visualization (e.g., bar chart or pie chart) to display the POS tag distribution in the text using a library like Matplotlib or Seaborn. How does the distribution of POS tags help you understand the structure and content of the text?\n",
    "\n",
    "4. Choose a specific POS tag (e.g., nouns, verbs, or adjectives) and create a list of unique tokens with that tag from the text. How do these tokens contribute to the meaning or theme of the text?\n",
    "\n",
    "5. Write a brief summary of your findings and observations from the hands-on exercise. Include any interesting insights or challenges you faced while working with POS tagging and the two libraries.\n",
    "\n"
   ]
  },
  {
   "cell_type": "code",
   "execution_count": 8,
   "metadata": {
    "colab": {
     "base_uri": "https://localhost:8080/",
     "height": 1000
    },
    "id": "VUPWv7fi3GU3",
    "outputId": "faf36b2f-7413-445e-c446-ad92187a84be"
   },
   "outputs": [
    {
     "data": {
      "image/png": "[encoded data removed]",
      "text/plain": [
       "<Figure size 640x480 with 1 Axes>"
      ]
     },
     "metadata": {},
     "output_type": "display_data"
    },
    {
     "data": {
      "image/png": "[encoded data removed]",
      "text/plain": [
       "<Figure size 640x480 with 1 Axes>"
      ]
     },
     "metadata": {},
     "output_type": "display_data"
    },
    {
     "name": "stdout",
     "output_type": "stream",
     "text": [
      "NLTK Nouns: ['pinnacle', 'midnight', 'climax', 'move', 'something', 'error', 'fault', 'doorway', 'day', 'decade', 'purchase', 'investment', 'vehicle', 'bin', 'al', 'deputy', 'minister', 'project', 'soccer', 'form', 'conclusion', 'soccer', 'force', 'season', 'hurdle', 'resistance', 's', 'path', 'Victory', 'trophy', 'moment', 'hand', 'glitter', 'fireworks', 'sky', 'gaze', 'team', 'flesh', 'time', '—', 'brother', 'bin', 'al', 'ruler', 'champion', 'fact', 'team', '—', 'handful', '—', 'treble', 'soccer', 'challenge', 'hallmark', 'greatness', 'sort', 'team', 'titan', 'aim', 'scale', 'investment', 'surprise', 'Soccer', 'sport', 'business', 'estimate', 'project', 'nothing', 'couple', 'Nothing', 'chance', 'manager', 'petrol', 'ideas.', '”', 'thing', 'money', 'training', 'world', 'academy', 'network', 'sister', 'bespoke', 'squad', 'recruitment', 'team', 'cost', 'coach', 'world', 'soccer', 'galaxy', 'brain', 'everything', 'allegation', 'success', 'everyone', 'web', 'club', 'course', 'nothing', 'conspiracy', 'body', 'evidence', 'vindication', 's', 'case', 'service', 'victory', 'form', 'domination', 'overturning', 'soccer', 's', 'order', 'manner', 'step', 'fact', 's', 'whistle', 'blew', 'night', 'staff', 'bench', 'club', 'express', 'purpose', 'nature', 'triumph', 'trophy', 'treble', 'manager', 'perfectionist', 'crack', 'slip', 'shot', 'corner', '—', 's', 'display', 'something', 'opponent', 'something', 'surprise', 'role', 'lamb', 'team', 'way', 's', 'default', 'champion', 'team', 'striker', 'soccer', 'future', 'record', 's', 'team', 'mismatch', 'procession', 'fait', 'accompli', 'soccer', 'while', 's', 'magic', 'wonder', 'obduracy', 'conviction', 'stride', 'action', 'side', 'well', 'experience', 'way', 'possession', 'petty', 'game', 'rhythm', 'pace', 'sting', 'attack', 'game', 'perfection', 'something', 'touchline', 'relax', 'cheeks', 'pot', 'kettle', 'beauty', 'skill', 'panache', 'grizzle', 'gnarl', 'abundance', 'story', 'perspective', 'everyone', 'Nothing', 'end', 'focus', 'place', 'body', 'shape', 'pass', 'Silva', 'cross', 'path', 'moment', 'resistance', 'broke', 'bulwark', 'soccer', 'aristocracy', 'door', 'blew', 'glitter', 'middle', 'day']\n",
      "\n",
      "spaCy Nouns: ['pinnacle', 'minutes', 'midnight', 'climax', 'move', 'error', 'fault', 'doorway', 'day', 'decade', 'half', 'lightning', 'strike', 'purchase', 'investment', 'vehicle', 'minister', 'project', 'soccer', 'form', 'conclusion', 'soccer', 'force', 'titles', 'season', 'hurdle', 'resistance', 'houses', 'path', 'Victory', 'trophy', 'moment', 'hand', 'glitter', 'fireworks', 'sky', 'gaze', 'team', 'flesh', 'time', 'brother', 'ruler', 'champion', 'fact', 'City', 'team', 'handful', 'clubs', 'soccer', 'challenge', 'hallmark', 'greatness', 'years', 'middleweight', 'sort', 'team', 'titan', 'aim', 'scale', 'investment', 'surprise', 'Soccer', 'sport', 'business', 'estimate', 'project', 'palaces', 'reasons', 'sports', 'couple', 'dollars', 'chance', 'manager', 'petrol', 'ideas', 'thing', 'money', 'training', 'facilities', 'world', 'state', 'art', 'academy', 'network', 'sister', 'teams', 'bespoke', 'squad', 'players', 'recruitment', 'team', 'cost', 'coach', 'world', 'soccer', 'galaxy', 'brain', 'allegation', 'success', 'rules', 'web', 'sponsors', 'regulations', 'club', 'course', 'conspiracy', 'body', 'evidence', 'vindication', 'charges', 'might', 'years', 'case', 'service', 'victory', 'form', 'domination', 'overturning', 'soccer', 'order', 'years', 'manner', 'step', 'fact', 'minds', 'players', 'fans', 'whistle', 'night', 'staff', 'bench', 'club', 'purpose', 'nature', 'triumph', 'trophy', 'manager', 'perfectionist', 'crack', 'armor', 'slip', 'flawless', 'unerring', 'shot', 'corner', 'standards', 'display', 'City', 'opponent', 'surprise', 'role', 'team', 'way', 'default', 'champion', 'team', 'City', 'striker', 'soccer', 'future', 'record', 'team', 'standards', 'A.', 'reckonings', 'mismatch', 'procession', 'fait', 'soccer', 'while', 'will', 'vagaries', 'hazards', 'times', 'magic', 'wonder', 'obduracy', 'conviction', 'stride', 'guard', 'action', 'blue', 'side', 'well', 'experience', 'way', 'kicks', 'possession', 'fouls', 'game', 'rhythm', 'pace', 'sting', 'attack', 'times', 'positions', 'game', 'perfection', 'touchline', 'players', 'hands', 'cheeks', 'pot', 'flaws', 'kettle', 'soccer', 'beauty', 'skill', 'panache', 'grit', 'grizzle', 'gnarl', 'abundance', 'story', 'years', 'perspective', 'City', 'end', 'focus', 'second', 'feet', 'place', 'body', 'shape', 'pass', 'cross', 'path', 'moment', 'resistance', 'bulwark', 'soccer', 'aristocracy', 'houses', 'door', 'whistle', 'glitter', 'fireworks', 'middle', 'celebrations', 'day']\n",
      "\n",
      "POS Tagging Differences: {'NNS': 39, 'EX': 5, 'PUNCT': -217, 'WDT': 5, 'IN': 152, 'VBN': 46, 'PART': -57, '.': 75, 'JJS': 5, 'NNP': 141, 'NOUN': -240, 'MD': 23, 'ADJ': -112, 'CC': 47, 'VBD': 73, 'RB': 79, 'ADP': -144, 'PRP$': 29, 'RP': 7, 'SCONJ': -22, 'VBZ': 39, 'PROPN': -113, 'VB': 42, 'TO': 28, 'CCONJ': -46, 'JJR': 6, 'RBR': 4, ',': 118, 'NUM': -13, 'WRB': 2, 'CD': 13, 'SPACE': -21, 'VBP': 4, 'VERB': -140, 'ADV': -75, 'PRON': -128, 'DET': -138, 'WP': 3, 'X': -1, ':': 6, 'NN': 219, 'JJ': 102, 'DT': 150, 'AUX': -87, 'VBG': 15, 'RBS': 2, 'PRP': 62, 'POS': 1}\n",
      "\n",
      "\n",
      "-----------------------------------------------------------------------------------------------------------------------------\n"
     ]
    }
   ],
   "source": [
    "# Part 3: Hands-on exercise\n",
    "\n",
    "# Replace the text variable with your chosen text\n",
    "# Text extracted from: https://www.nytimes.com/live/2023/06/10/sports/man-city-inter-milan-champions-league\n",
    "\n",
    "text = \"\"\"The pinnacle was reached a few minutes before midnight. It did not come as Manchester City might have dreamed, at the fantastical climax of some wondrous, intricate move, but with something more arbitrary, more human: a minor error, little more than a technical fault, levered open and swiftly punished, at the doorway between one day and the next.\n",
    "\n",
    "A decade and a half since City’s lightning-strike purchase by an investment vehicle fronted by Sheikh Mansour bin Zayed al Nahyan, the deputy prime minister of the United Arab Emirates, the most ambitious project soccer has ever seen finally had found its ultimate form, its inevitable conclusion.\n",
    "\n",
    "City had long ago established itself as English soccer’s dominant force. It had claimed five of the last six Premier League titles. It had won the F.A. Cup this season, too. Now, at last hurdle, it had broken the resistance of Inter Milan, the last of Europe’s grand old houses to stand in its path. Victory in the Champions League, the one trophy it had not yet claimed and the moment it had craved more than any other, was at hand.\n",
    "\n",
    "As the glitter fell and the fireworks leaped into the sky, under the watchful gaze of both Sheikh Mansour — seeing the team he owns in the flesh for just the second time — and his brother, Sheikh Mohamed bin Zayed al Nahyan, the ruler of the U.A.E., Manchester City could finally call itself champion of Europe.\n",
    "\n",
    "More than that, in fact: City is now only the second English team — and one of only a select handful of clubs across Europe — to have completed a domestic and European treble, soccer’s final challenge, its hallmark of true greatness. This is exactly what Abu Dhabi envisioned, 15 years ago, when it acquired City, a middleweight sort of a team, and set out to make it a titan.\n",
    "\n",
    "That it has achieved its aim, given the scale of its investment, should not be a surprise. This was always going to happen, sooner or later: Soccer is a sport, but it is also a business. By even a conservative estimate, the Manchester City project, designed in the palaces of the Persian Gulf for reasons that have little or nothing to do with sports, has cost a couple of billion dollars.\n",
    "\n",
    "Nothing has been left to chance. City was dangerous, the former Arsenal manager Arsène Wenger once said, because it had both “petrol and ideas.” It is one thing having money. It is quite another knowing how to use it.\n",
    "\n",
    "City most certainly does. It has one of the finest training facilities in the world. It has a state-of-the-art academy, a global network of sister teams, a bespoke squad stuffed with players handpicked by a vast, expert recruitment team, regardless of their cost. It has Pep Guardiola, the finest coach in the world, soccer’s own galaxy brain, and he has everything he could possibly want.\n",
    "\n",
    "The allegation remains that there is more behind its success: that City has not played by the same rules as everyone else, that it has used its web of sponsors in the U.A.E. to circumvent the financial regulations of first UEFA and then the Premier League.\n",
    "\n",
    "The club denies all of it, of course, claiming it is nothing but a conspiracy of the jealous and the threatened. It has a comprehensive body of irrefutable evidence that will provide vindication, it says. It has yet to produce it. UEFA’s charges did not stick. Whether the Premier League’s might, all 115 of them, may yet take years to discover.\n",
    "\n",
    "City has done — or not done, as the case may be — it all in the service of this: not just victory, not just a form of domination that has rarely, if ever, been seen, but in the overturning of European soccer’s established order.\n",
    "\n",
    "In the years to come, the manner in which it took the final step will be all but forgotten. It would, in fact, have slipped from the minds of City’s players and their fans almost as soon as the final whistle blew on Saturday night and Guardiola and his staff poured from the bench, euphoric and disbelieving and more than a little relieved. He was brought to the club for this express purpose. It has surely taken longer than he would have liked to deliver.\n",
    "\n",
    "He certainly will not dwell for long on the nature of his triumph, his third Champions League trophy, his second European treble as a manager. He might be a perfectionist, but he will not care in the slightest that City found only the slightest crack in Inter’s armor — a slip from the otherwise flawless Federico Dimarco sending Bernardo Silva scampering free, and Rodri placing an unerring shot in the corner — or that by City’s standards this was an underwhelming display in an underwhelming final.\n",
    "\n",
    "There was, though, something entirely fitting about it. City’s opponent, Inter Milan, had arrived in Istanbul as something of a surprise. It was expected, deep down, to play the role of sacrificial lamb, swatted aside casually by a City team that seemed, in every conceivable way, to be its superior.\n",
    "\n",
    "City is England’s default champion. Inter is the third-best team in Italy. City possesses Erling Haaland, a striker who is soccer’s equivalent to the T1000, sent from the future to obliterate every record he can. Inter’s team is old, even by the gerontocratic standards of Serie A. This final was, in most reckonings, a mismatch, a procession, a fait accompli.\n",
    "\n",
    "European soccer, though, has proved rather harder to conquer than Abu Dhabi might have envisaged. The Premier League might have been bent, after a while, to City’s will, but the Champions League has always foxed it: full of vagaries and hazards and what must at times have started to seem like magic.\n",
    "\n",
    "No wonder, then, that Inter’s obduracy and its conviction put City off its stride. There was no desperate rear-guard action, no black-and-blue Helm's Deep. Instead, Simone Inzaghi’s Inter side drew deep from its well of experience to frustrate City in every way it could conceive.\n",
    "\n",
    "It dawdled over free kicks. It lingered in possession. It indulged in petty, niggling fouls, robbing the game of its rhythm. It drew the pace, and with it the sting, from City’s fearsome attack. At times, it stood still, unwilling to be drawn from its positions. Proudly, Inter made the game as ugly as it could.\n",
    "\n",
    "And it did it all to perfection, or something close to it. Guardiola raged on the touchline. “Relax, relax,” he barked at his players, his hands clawing at his cheeks, a pot pointing out as many flaws as possible in the kettle. There is more to soccer than beauty, and skill, and panache. There is also grit and grizzle, gnarl and nous, and Inter had them all in abundance.\n",
    "\n",
    "Ultimately, though, it was not enough. That has been the story of Manchester City in these last 15 years, told from the perspective of everyone else. Nothing has ever been enough. City will not, in the end, be stopped.\n",
    "\n",
    "It would be unfair to say Inter’s focus waned, even for a second. Dimarco simply put one of his feet in the wrong place. His body shape was wrong as he tried to intercept a pass. He stumbled. Silva was away. His cross deflected back into Rodri’s path, and in that moment, arbitrary and human, Inter’s resistance broke, and with it the last bulwark of European soccer’s traditional aristocracy, its grand old houses.\n",
    "\n",
    "Manchester City, as it was always going to, had at last broken down the door. The whistle blew. The glitter fell. The fireworks exploded. And in the middle of its celebrations, one day ended, and another began.\"\"\"\n",
    "\n",
    "# To Do - Tokenize and tag with both NLTK and spaCy\n",
    "nltk_tokens = nltk.word_tokenize(text)\n",
    "nltk_tags = nltk.pos_tag(nltk_tokens)\n",
    "\n",
    "# To Do - Calculate the differences in POS tags\n",
    "spacy_doc = nlp(text)\n",
    "spacy_tags = [(token.text, token.pos_) for token in spacy_doc]\n",
    "\n",
    "# Import the Counter class from the collections module\n",
    "from collections import Counter\n",
    "\n",
    "# The calculate_differences function counts the frequency of each POS tag in both nltk_tags and spacy_tags\n",
    "def calculate_differences(nltk_tags, spacy_tags):\n",
    "    nltk_tag_dict = dict(Counter(tag for word, tag in nltk_tags))\n",
    "    spacy_tag_dict = dict(Counter(tag for word, tag in spacy_tags))\n",
    "\n",
    "    diff = {}\n",
    "    for tag in set(nltk_tag_dict.keys()).union(spacy_tag_dict.keys()):\n",
    "        diff[tag] = nltk_tag_dict.get(tag, 0) - spacy_tag_dict.get(tag, 0)\n",
    "\n",
    "    return diff\n",
    "\n",
    "tag_diff = calculate_differences(nltk_tags, spacy_tags)\n",
    "\n",
    "# The tag_frequencies function counts the frequency of each POS tag in a given list of tagged tokens\n",
    "def tag_frequencies(tags):\n",
    "    return dict(Counter(tag for word, tag in tags))\n",
    "\n",
    "# Visualize the POS tag distribution\n",
    "import matplotlib.pyplot as plt\n",
    "\n",
    "# The plot_pos_distribution function creates a bar chart of the POS tag frequencies\n",
    "def plot_pos_distribution(tag_freqs, title):\n",
    "    tags, freqs = zip(*tag_freqs.items())\n",
    "\n",
    "    # Check the number of tags\n",
    "    if len(tags) > 15:\n",
    "        # Use a horizontal bar chart for a large number of tags\n",
    "        plt.barh(tags, freqs, color='steelblue')\n",
    "        plt.ylabel('POS Tags')\n",
    "        plt.xlabel('Frequency')\n",
    "        plt.title(title)\n",
    "    else:\n",
    "        # Rotate x-axis labels for a small number of tags\n",
    "        plt.bar(tags, freqs, color='steelblue')\n",
    "        plt.xticks(rotation=90)  # Rotate x-axis labels\n",
    "        plt.xlabel('POS Tags')\n",
    "        plt.ylabel('Frequency')\n",
    "        plt.title(title)\n",
    "    \n",
    "    plt.show()\n",
    "\n",
    "# Call the plot_pos_distribution function for both nltk_tag_freqs and spacy_tag_freqs\n",
    "nltk_tag_freqs = tag_frequencies(nltk_tags)\n",
    "plot_pos_distribution(nltk_tag_freqs, 'NLTK POS Tag Distribution')\n",
    "\n",
    "spacy_tag_freqs = tag_frequencies(spacy_tags)\n",
    "plot_pos_distribution(spacy_tag_freqs, 'spaCy POS Tag Distribution')\n",
    "\n",
    "# Analyze specific POS tags (e.g., nouns)\n",
    "def extract_specific_pos(tagged_tokens, target_pos):\n",
    "    return [token for token, pos in tagged_tokens if pos == target_pos]\n",
    "\n",
    "nltk_nouns = extract_specific_pos(nltk_tags, 'NN')\n",
    "spacy_nouns = extract_specific_pos(spacy_tags, 'NOUN')\n",
    "\n",
    "# Print your findings and observations\n",
    "print(\"NLTK Nouns:\", nltk_nouns)\n",
    "print(\"\\nspaCy Nouns:\", spacy_nouns)\n",
    "print(\"\\nPOS Tagging Differences:\", tag_diff)\n",
    "print(\"\\n\")\n",
    "print(\"-\"*125)"
   ]
  }
 ],
 "metadata": {
  "colab": {
   "provenance": []
  },
  "kernelspec": {
   "display_name": "Python 3 (ipykernel)",
   "language": "python",
   "name": "python3"
  },
  "language_info": {
   "codemirror_mode": {
    "name": "ipython",
    "version": 3
   },
   "file_extension": ".py",
   "mimetype": "text/x-python",
   "name": "python",
   "nbconvert_exporter": "python",
   "pygments_lexer": "ipython3",
   "version": "3.9.13"
  }
 },
 "nbformat": 4,
 "nbformat_minor": 1
}
